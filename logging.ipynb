{
 "cells": [
  {
   "cell_type": "code",
   "execution_count": 2,
   "metadata": {},
   "outputs": [
    {
     "name": "stderr",
     "output_type": "stream",
     "text": [
      "DEBUG:root:THIS IS DEBUG MESSAGE\n",
      "INFO:root:THIS IS AN INFO MESSAGE\n",
      "WARNING:root:This is an wwarning message\n",
      "ERROR:root:this is an error msg\n",
      "CRITICAL:root:this is critical msg\n"
     ]
    }
   ],
   "source": [
    "# import logging\n",
    "\n",
    "# logging.basicConfig(level=logging.DEBUG)\n",
    "\n",
    "# #log mesg with diffrent severity level\n",
    "# logging.debug(\"THIS IS DEBUG MESSAGE\")\n",
    "# logging.info(\"THIS IS AN INFO MESSAGE\")\n",
    "# logging.warning(\"This is an wwarning message\")\n",
    "# logging.error(\"this is an error msg\")\n",
    "# logging.critical(\"this is critical msg\")\n",
    "\n"
   ]
  },
  {
   "cell_type": "code",
   "execution_count": 3,
   "metadata": {},
   "outputs": [],
   "source": [
    "import logging\n",
    "logging.basicConfig(\n",
    "    filename='app.log',\n",
    "    filemode='w',\n",
    "\n",
    "    level=logging.DEBUG,\n",
    "    format='%(asctime)s-%(name)s-%(levelname)s-%(message)s',\n",
    "    datefmt='%Y-%m-%d %H:%M:%S'\n",
    ")\n",
    "# #log mesg with diffrent severity level\n",
    "logging.debug(\"THIS IS DEBUG MESSAGE\")\n",
    "logging.info(\"THIS IS AN INFO MESSAGE\")\n",
    "logging.warning(\"This is an wwarning message\")\n",
    "logging.error(\"this is an error msg\")\n",
    "logging.critical(\"this is critical msg\")\n"
   ]
  },
  {
   "cell_type": "code",
   "execution_count": 4,
   "metadata": {},
   "outputs": [],
   "source": [
    "import logging\n",
    "# creatt a logger for module \n",
    "logger1=logging.getLogger(\"module1\")\n",
    "logger1.setLevel(logging.DEBUG)\n",
    "\n",
    "# create a logger for module 2\n",
    "\n",
    "logger2=logging.getLogger(\"mdoule2\")\n",
    "logger2.setLevel(logging.WARNING)\n"
   ]
  },
  {
   "cell_type": "code",
   "execution_count": 5,
   "metadata": {},
   "outputs": [],
   "source": [
    "logger1.debug(\"This is debug message for module 1\")\n",
    "logger2.warning(\"This is warning message for module 2\")\n",
    "logger2.error(\"This is an error message\")\n"
   ]
  }
 ],
 "metadata": {
  "kernelspec": {
   "display_name": "Python 3",
   "language": "python",
   "name": "python3"
  },
  "language_info": {
   "codemirror_mode": {
    "name": "ipython",
    "version": 3
   },
   "file_extension": ".py",
   "mimetype": "text/x-python",
   "name": "python",
   "nbconvert_exporter": "python",
   "pygments_lexer": "ipython3",
   "version": "3.12.4"
  }
 },
 "nbformat": 4,
 "nbformat_minor": 2
}
